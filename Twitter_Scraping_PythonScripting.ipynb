{
 "cells": [
  {
   "cell_type": "code",
   "execution_count": 1,
   "id": "7a66b6bc",
   "metadata": {},
   "outputs": [],
   "source": [
    "# importing libraries\n",
    "\n",
    "import pandas as pd\n",
    "import snscrape.modules.twitter as sntwitter"
   ]
  },
  {
   "cell_type": "code",
   "execution_count": 2,
   "id": "0045e15a",
   "metadata": {},
   "outputs": [],
   "source": [
    "# using TwitterSearchScrapper\n",
    "\n",
    "scraper = sntwitter.TwitterSearchScraper(\"#python\")"
   ]
  },
  {
   "cell_type": "code",
   "execution_count": 3,
   "id": "19d70abe",
   "metadata": {},
   "outputs": [],
   "source": [
    "for tweet in scraper.get_items():\n",
    "    break"
   ]
  },
  {
   "cell_type": "code",
   "execution_count": 4,
   "id": "1ac15f40",
   "metadata": {},
   "outputs": [
    {
     "data": {
      "text/plain": [
       "Tweet(url='https://twitter.com/CodingJobsIt/status/1616683272343265283', date=datetime.datetime(2023, 1, 21, 6, 25, 3, tzinfo=datetime.timezone.utc), rawContent='One4 S.r.l. is hiring a Sviluppatori - categoria protetta 68/99 in Como, Lombardia, Remote: https://t.co/HKxxlvtleq #C# #Java #Python #SQL', renderedContent='One4 S.r.l. is hiring a Sviluppatori - categoria protetta 68/99 in Como, Lombardia, Remote: codingjobs.it/go/38405?ref=t… #C# #Java #Python #SQL', id=1616683272343265283, user=User(username='CodingJobsIt', id=1436932080227831808, displayname='CodingJobs', rawDescription='1,000+ businesses searching for developers like you!', renderedDescription='1,000+ businesses searching for developers like you!', descriptionLinks=None, verified=False, created=datetime.datetime(2021, 9, 12, 5, 58, 25, tzinfo=datetime.timezone.utc), followersCount=441, friendsCount=0, statusesCount=28376, favouritesCount=1, listedCount=4, mediaCount=0, location='', protected=False, link=None, profileImageUrl='https://pbs.twimg.com/profile_images/1436932378602180610/mRUsDeki_normal.jpg', profileBannerUrl='https://pbs.twimg.com/profile_banners/1436932080227831808/1632753404', label=None), replyCount=0, retweetCount=0, likeCount=0, quoteCount=0, conversationId=1616683272343265283, lang='it', source='<a href=\"https://help.twitter.com/en/using-twitter/how-to-tweet#source-labels\" rel=\"nofollow\">CodingJobs</a>', sourceUrl='https://help.twitter.com/en/using-twitter/how-to-tweet#source-labels', sourceLabel='CodingJobs', links=[TextLink(text='codingjobs.it/go/38405?ref=t…', url='https://codingjobs.it/go/38405?ref=twitter', tcourl='https://t.co/HKxxlvtleq', indices=(92, 115))], media=None, retweetedTweet=None, quotedTweet=None, inReplyToTweetId=None, inReplyToUser=None, mentionedUsers=None, coordinates=None, place=None, hashtags=['Java', 'Python', 'SQL'], cashtags=None, card=None, viewCount=None, vibe=None)"
      ]
     },
     "execution_count": 4,
     "metadata": {},
     "output_type": "execute_result"
    }
   ],
   "source": [
    "tweet"
   ]
  },
  {
   "cell_type": "code",
   "execution_count": 5,
   "id": "a6f6679f",
   "metadata": {},
   "outputs": [],
   "source": [
    "# scraping required columns/ items from the tweet\n",
    "\n",
    "scraper = sntwitter.TwitterSearchScraper(\"#python\")\n",
    "\n",
    "tweets = []\n",
    "\n",
    "for i, tweet in enumerate(scraper.get_items()):\n",
    "    data = [\n",
    "        tweet.date,\n",
    "        tweet.id,\n",
    "        tweet.url,\n",
    "        tweet.rawContent,\n",
    "        tweet.user.username,\n",
    "        tweet.replyCount,\n",
    "        tweet.retweetCount,\n",
    "        tweet.lang,\n",
    "        tweet.source,\n",
    "        tweet.likeCount\n",
    "    ]\n",
    "    tweets.append(data)\n",
    "    if i > 1000:\n",
    "        break"
   ]
  },
  {
   "cell_type": "code",
   "execution_count": 6,
   "id": "8807c2ac",
   "metadata": {},
   "outputs": [
    {
     "data": {
      "text/plain": [
       "1002"
      ]
     },
     "execution_count": 6,
     "metadata": {},
     "output_type": "execute_result"
    }
   ],
   "source": [
    "len(tweets)"
   ]
  },
  {
   "cell_type": "code",
   "execution_count": null,
   "id": "2957e325",
   "metadata": {
    "scrolled": true
   },
   "outputs": [],
   "source": [
    "tweets"
   ]
  },
  {
   "cell_type": "code",
   "execution_count": 8,
   "id": "63b39c24",
   "metadata": {},
   "outputs": [],
   "source": [
    "# Converting the tweet data into a DataFrame\n",
    "\n",
    "tweet_df = pd.DataFrame(\n",
    "    tweets, columns = [\"date\", \"id\", \"url\", \"rawContent\", \"username\", \"replyCount\", \"retweetCount\", \"lang\", \"source\",  \"likeCount\",])"
   ]
  },
  {
   "cell_type": "code",
   "execution_count": null,
   "id": "0808ee4b",
   "metadata": {
    "scrolled": false
   },
   "outputs": [],
   "source": [
    "tweet_df"
   ]
  },
  {
   "cell_type": "code",
   "execution_count": 11,
   "id": "b334c7cc",
   "metadata": {},
   "outputs": [],
   "source": [
    "# Saving the Dataframe as csv \n",
    "\n",
    "tweet_df.to_csv(\"tweet-scrape.csv\")"
   ]
  },
  {
   "cell_type": "code",
   "execution_count": null,
   "id": "ade0eff5",
   "metadata": {},
   "outputs": [],
   "source": []
  }
 ],
 "metadata": {
  "kernelspec": {
   "display_name": "Python 3 (ipykernel)",
   "language": "python",
   "name": "python3"
  },
  "language_info": {
   "codemirror_mode": {
    "name": "ipython",
    "version": 3
   },
   "file_extension": ".py",
   "mimetype": "text/x-python",
   "name": "python",
   "nbconvert_exporter": "python",
   "pygments_lexer": "ipython3",
   "version": "3.10.7"
  }
 },
 "nbformat": 4,
 "nbformat_minor": 5
}
