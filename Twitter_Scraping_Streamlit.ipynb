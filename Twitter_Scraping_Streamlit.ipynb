{
 "cells": [
  {
   "cell_type": "code",
   "execution_count": null,
   "id": "f99245dc",
   "metadata": {},
   "outputs": [],
   "source": [
    "# importing libraries\n",
    "\n",
    "import streamlit as st\n",
    "import camelot as cam\n",
    "import pandas as pd\n",
    "import json\n",
    "import subprocess\n",
    "import os\n",
    "import base64\n",
    "import snscrape.modules.twitter as sntwitter"
   ]
  },
  {
   "cell_type": "code",
   "execution_count": null,
   "id": "ce793ad0",
   "metadata": {},
   "outputs": [],
   "source": [
    "# Assigning a title for our GUI\n",
    "\n",
    "st.title(\"Lets Scrape some Tweets\")\n",
    "#st.subheader(\"Twitter Scraper\")\n",
    "\n",
    "st.image(\"./wp4056133-twitter-wallpapers.jpg\")"
   ]
  },
  {
   "cell_type": "code",
   "execution_count": null,
   "id": "73682733",
   "metadata": {},
   "outputs": [],
   "source": [
    "# Creating a Streamlit form\n",
    "\n",
    "with st.form(key = 'Twitter Form'):\n",
    "    name = st.text_input(label = 'Please enter your Keyword/ hashtag')\n",
    "    file_name = st.text_input('Name your file')\n",
    "    submit = st.form_submit_button(label = 'Next')"
   ]
  },
  {
   "cell_type": "code",
   "execution_count": null,
   "id": "f05fa063",
   "metadata": {},
   "outputs": [],
   "source": [
    "# Creating columns under Streamlit form\n",
    "\n",
    "col1, col2 = st.columns(2)\n",
    "\n",
    "with col1:\n",
    "    with st.form('CSV Download'):\n",
    "        down1 = st.radio('Do you want to Download CSV?', ['Yes', 'No'])\n",
    "        number1 = st.slider(label='How many Tweets to produce', min_value=0, max_value=500, step = 10)\n",
    "        submitted1 = st.form_submit_button('Submit 1')\n",
    "\n",
    "with col2:\n",
    "    with st.form('JSON Downlaod'):\n",
    "        down2 = st.radio('Do you want to Download JSON?', ['Yes', 'No'])\n",
    "        number2 = st.slider(label='How many Tweets to produce', min_value=0, max_value=500, step = 10)\n",
    "        submitted2 = st.form_submit_button('Submit 2')"
   ]
  },
  {
   "cell_type": "code",
   "execution_count": null,
   "id": "7c33a2f5",
   "metadata": {},
   "outputs": [],
   "source": [
    "if col1 == 'Yes':\n",
    "    # byte object into a PDF file \n",
    "    with open(\"input.csv\", \"wb\") as f:\n",
    "        base64_pdf = base64.b64encode(input_csv.read()).decode('utf-8')\n",
    "        f.write(base64.b64decode(base64_csv))\n",
    "    f.close()\n",
    "else:\n",
    "    print('Try Again')"
   ]
  },
  {
   "cell_type": "code",
   "execution_count": null,
   "id": "e28a407f",
   "metadata": {},
   "outputs": [],
   "source": [
    "if col2 == 'Yes':\n",
    "    # byte object into a PDF file \n",
    "    with open(\"input.json\", \"wb\") as f:\n",
    "        base64_pdf = base64.b64encode(input_json.read()).decode('utf-8')\n",
    "        f.write(base64.b64decode(base64_json))\n",
    "    f.close()\n",
    "else:\n",
    "    print('Try Again')"
   ]
  },
  {
   "cell_type": "code",
   "execution_count": null,
   "id": "30a86c24",
   "metadata": {},
   "outputs": [],
   "source": [
    "# Scraping required items from the hashtag\n",
    "\n",
    "scraper = sntwitter.TwitterSearchScraper('#python')\n",
    "\n",
    "tweets = []\n",
    "\n",
    "for i, tweet in enumerate(scraper.get_items()):\n",
    "    data = [\n",
    "        tweet.date,\n",
    "        tweet.id,\n",
    "        tweet.url,\n",
    "        tweet.rawContent,\n",
    "        tweet.user.username,\n",
    "        tweet.replyCount,\n",
    "        tweet.retweetCount,\n",
    "        tweet.lang,\n",
    "        tweet.source,\n",
    "        tweet.likeCount\n",
    "    ]\n",
    "    tweets.append(data)\n",
    "    if i > 500:\n",
    "        break"
   ]
  },
  {
   "cell_type": "code",
   "execution_count": null,
   "id": "3b68dafa",
   "metadata": {},
   "outputs": [],
   "source": [
    "# Converting the data into a DataFrame and assigning it to a variable\n",
    "\n",
    "table = pd.DataFrame(tweets, columns = [\"date\", \"id\", \"url\", \"rawContent\", \"username\", \"replyCount\", \"retweetCount\", \"lang\", \"source\",  \"likeCount\",])\n",
    "\n",
    "# display the output after parsing \n",
    "st.write(table)"
   ]
  },
  {
   "cell_type": "code",
   "execution_count": null,
   "id": "5e47ff0e",
   "metadata": {},
   "outputs": [],
   "source": [
    " if len(table) > 0:\n",
    "        output_df = st.dataframe(table)"
   ]
  },
  {
   "cell_type": "code",
   "execution_count": null,
   "id": "a502d89a",
   "metadata": {},
   "outputs": [],
   "source": [
    "# Adding Streamlit Download Button\n",
    "\n",
    "st.download_button(\"Download CSV\",\n",
    "                   \"input.csv\",\n",
    "                   \"text.csv\",\n",
    "                   key = 'download-csv',)"
   ]
  },
  {
   "cell_type": "code",
   "execution_count": null,
   "id": "22ec2105",
   "metadata": {},
   "outputs": [],
   "source": []
  }
 ],
 "metadata": {
  "kernelspec": {
   "display_name": "Python 3 (ipykernel)",
   "language": "python",
   "name": "python3"
  },
  "language_info": {
   "codemirror_mode": {
    "name": "ipython",
    "version": 3
   },
   "file_extension": ".py",
   "mimetype": "text/x-python",
   "name": "python",
   "nbconvert_exporter": "python",
   "pygments_lexer": "ipython3",
   "version": "3.10.7"
  }
 },
 "nbformat": 4,
 "nbformat_minor": 5
}
